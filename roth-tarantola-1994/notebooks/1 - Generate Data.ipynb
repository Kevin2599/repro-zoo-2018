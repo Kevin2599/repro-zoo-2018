{
 "cells": [
  {
   "cell_type": "code",
   "execution_count": 14,
   "metadata": {
    "collapsed": true
   },
   "outputs": [],
   "source": [
    "%matplotlib inline\n",
    "import numpy as np\n",
    "import pylab as plt"
   ]
  },
  {
   "cell_type": "markdown",
   "metadata": {},
   "source": [
    "# Generate Data\n",
    "\n",
    "The training set consists of 1-d Earth models.  These have eight layers each, over a half space.  All layers are 200m think.  The velocity of the first layer is pseudo-randomly generated with a mean of 1500 m/s += 150 m/s with a box car distribution.  The velocity in the $v_{l+1}$ layer is given by:\n",
    "\n",
    "$v_{l+1} = \\left(v_l + 190 \\text{ m/s}\\right) \\pm 380 \\text{ m/s}$\n",
    "\n",
    "For a data structure, let's start with an array of 8 velocity values.  We can store all model realizations in a big list."
   ]
  },
  {
   "cell_type": "code",
   "execution_count": 20,
   "metadata": {
    "collapsed": false
   },
   "outputs": [],
   "source": [
    "models = []\n",
    "\n",
    "num_models = 100\n",
    "num_layers = 8\n",
    "layer_thickness = 200 # meters\n",
    "depths = np.arange(0, 1600, layer_thickness)\n",
    "\n",
    "for i in np.arange(num_models):\n",
    "    model = np.zeros(num_layers)\n",
    "    # first layer velocity\n",
    "    perturb = np.random.randint(-150, 150)\n",
    "    model[0] = 1500 + perturb\n",
    "\n",
    "    \n",
    "    for l in np.arange(1,num_layers):\n",
    "        perturb = np.random.randint(-380, 380)\n",
    "        model[l] = (model[l-1] + 190) + perturb\n",
    "        \n",
    "        \n",
    "    models.append(model)"
   ]
  },
  {
   "cell_type": "code",
   "execution_count": 21,
   "metadata": {
    "collapsed": false
   },
   "outputs": [
    {
     "data": {
      "text/plain": [
       "array([   0,  200,  400,  600,  800, 1000, 1200, 1400])"
      ]
     },
     "execution_count": 21,
     "metadata": {},
     "output_type": "execute_result"
    }
   ],
   "source": [
    "depths"
   ]
  },
  {
   "cell_type": "code",
   "execution_count": 22,
   "metadata": {
    "collapsed": false
   },
   "outputs": [
    {
     "data": {
      "text/plain": [
       "[<matplotlib.lines.Line2D at 0x112455d68>]"
      ]
     },
     "execution_count": 22,
     "metadata": {},
     "output_type": "execute_result"
    },
    {
     "data": {
      "image/png": "[encoded data removed]",
      "text/plain": [
       "<matplotlib.figure.Figure at 0x11239eda0>"
      ]
     },
     "metadata": {},
     "output_type": "display_data"
    }
   ],
   "source": [
    "plt.plot(depths, models[0])"
   ]
  },
  {
   "cell_type": "code",
   "execution_count": null,
   "metadata": {
    "collapsed": true
   },
   "outputs": [],
   "source": []
  }
 ],
 "metadata": {
  "kernelspec": {
   "display_name": "Python 3",
   "language": "python",
   "name": "python3"
  },
  "language_info": {
   "codemirror_mode": {
    "name": "ipython",
    "version": 3
   },
   "file_extension": ".py",
   "mimetype": "text/x-python",
   "name": "python",
   "nbconvert_exporter": "python",
   "pygments_lexer": "ipython3",
   "version": "3.6.0"
  }
 },
 "nbformat": 4,
 "nbformat_minor": 2
}
